{
 "cells": [
  {
   "cell_type": "code",
   "execution_count": 1,
   "id": "4215b982-03bd-40f7-9232-639e659c7d82",
   "metadata": {},
   "outputs": [
    {
     "name": "stdout",
     "output_type": "stream",
     "text": [
      "hello\n"
     ]
    }
   ],
   "source": [
    "print(\"hello\")\n"
   ]
  },
  {
   "cell_type": "code",
   "execution_count": 5,
   "id": "4603effe-59b9-471f-bc66-229aa92a3209",
   "metadata": {},
   "outputs": [
    {
     "name": "stdout",
     "output_type": "stream",
     "text": [
      "my name is: karan my roll no is : 10\n"
     ]
    }
   ],
   "source": [
    "roll_no=10\n",
    "name=\"karan\"\n",
    "print(\"my name is:\",name,\"my roll no is :\",roll_no)"
   ]
  },
  {
   "cell_type": "code",
   "execution_count": null,
   "id": "9f7c87dc-6a27-4a94-9ac6-b34cfa296a6f",
   "metadata": {},
   "outputs": [],
   "source": []
  }
 ],
 "metadata": {
  "kernelspec": {
   "display_name": "Python 3 (ipykernel)",
   "language": "python",
   "name": "python3"
  },
  "language_info": {
   "codemirror_mode": {
    "name": "ipython",
    "version": 3
   },
   "file_extension": ".py",
   "mimetype": "text/x-python",
   "name": "python",
   "nbconvert_exporter": "python",
   "pygments_lexer": "ipython3",
   "version": "3.11.7"
  }
 },
 "nbformat": 4,
 "nbformat_minor": 5
}
